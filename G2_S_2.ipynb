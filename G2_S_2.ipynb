{
 "cells": [
  {
   "cell_type": "markdown",
   "metadata": {},
   "source": [
    "Для всех задач:\n",
    "\n",
    "Ограничение времени\t1 секунда\n",
    "Ограничение памяти\t64Mb\n",
    "Ввод\tстандартный ввод или input.txt\n",
    "Вывод\tстандартный вывод или output.txt"
   ]
  },
  {
   "cell_type": "markdown",
   "metadata": {},
   "source": [
    "A. Количество слов\n",
    "\n",
    "Дана строка, состоящая из слов, разделенных пробелами. Определите, сколько в ней слов. Гарантируется, что в строке не встречается несколько пробелов подряд.\n",
    "\n",
    "Формат ввода\n",
    "Вводится строка.\n",
    "\n",
    "Формат вывода\n",
    "Выведите ответ на задачу."
   ]
  },
  {
   "cell_type": "code",
   "execution_count": 3,
   "metadata": {},
   "outputs": [
    {
     "name": "stdout",
     "output_type": "stream",
     "text": [
      "0\n"
     ]
    }
   ],
   "source": [
    "x = input().split()\n",
    "print(len(x))"
   ]
  },
  {
   "cell_type": "markdown",
   "metadata": {},
   "source": [
    "B. Первое и последнее вхождение\n",
    "\n",
    "Дана строка. Если в этом числе буква f встречается только один раз, выведите её индекс. Если она встречается два и более раз, выведите индекс её первого и последнего появления. Если буква f в данной строке не встречается, ничего не выводите. При решении этой задачи нельзя использовать метод count и циклы.\n",
    "\n",
    "Формат ввода\n",
    "Вводится строка.\n",
    "\n",
    "Формат вывода\n",
    "Выведите ответ на задачу."
   ]
  },
  {
   "cell_type": "code",
   "execution_count": 9,
   "metadata": {},
   "outputs": [
    {
     "name": "stdout",
     "output_type": "stream",
     "text": [
      "1 2\n"
     ]
    }
   ],
   "source": [
    "x = input()\n",
    "first = x.find('f')\n",
    "if first == -1:\n",
    "    pass\n",
    "else:\n",
    "    last = x.rfind('f')\n",
    "    if first == last:\n",
    "        print(first)\n",
    "    else:\n",
    "        print(first, last)"
   ]
  },
  {
   "cell_type": "markdown",
   "metadata": {},
   "source": [
    "C. Дублирование фрагмента\n",
    "\n",
    "Дана строка, в которой буква h встречается как минимум два раза. Повторите последовательность символов, заключенную между первым и последнием появлением буквы h два раза, сами буквы h повторять не надо.\n",
    "\n",
    "Формат ввода\n",
    "Вводится строка.\n",
    "\n",
    "Формат вывода\n",
    "Выведите ответ на задачу."
   ]
  },
  {
   "cell_type": "code",
   "execution_count": 19,
   "metadata": {},
   "outputs": [
    {
     "name": "stdout",
     "output_type": "stream",
     "text": [
      "qwertyhasdfgasdfghzxcvb\n",
      "qwertyhasdfgasdfghzxcvb\n"
     ]
    }
   ],
   "source": [
    "x = input()\n",
    "first = x.find('h')\n",
    "last = x.rfind('h')\n",
    "in_part = x[first+1:last]\n",
    "print(x[:first+1]+in_part*2+x[last:])"
   ]
  },
  {
   "cell_type": "markdown",
   "metadata": {},
   "source": [
    "D. Флаги\n",
    "\n",
    "Напишите программу, которая по данному числу n от 1 до 9 выводит на экран n флагов. Изображение одного флага имеет размер 4×4 символов, между двумя соседними флагами также имеется пустой (из пробелов) столбец. Разрешается вывести пустой столбец после последнего флага. Внутри каждого флага должен быть записан его номер — число от 1 до n.\n",
    "\n",
    "Формат ввода\n",
    "Вводится натуральное число.\n",
    "\n",
    "Формат вывода\n",
    "Выведите ответ на задачу."
   ]
  },
  {
   "cell_type": "code",
   "execution_count": 61,
   "metadata": {},
   "outputs": [
    {
     "name": "stdout",
     "output_type": "stream",
     "text": [
      "+___ +___ +___ \n",
      "|1 / |2 / |3 / \n",
      "|__\\ |__\\ |__\\ \n",
      "|    |    |    \n"
     ]
    }
   ],
   "source": [
    "x = int(input())\n",
    "print('+___ '*x)\n",
    "for i in range(1, x+1):\n",
    "    print(f'|{i} / ', end='')\n",
    "print('\\n', end='')\n",
    "print('|__\\ '*x)\n",
    "print('|    '*x)"
   ]
  },
  {
   "cell_type": "markdown",
   "metadata": {},
   "source": [
    "E. Замечательные числа - 4\n",
    "\n",
    "Даны два четырёхзначных числа A и B. Выведите все четырёхзначные числа на отрезке от A до B, запись которых является палиндромом.\n",
    "\n",
    "Формат ввода\n",
    "Вводятся два целых числа A и B\n",
    "\n",
    "Формат вывода\n",
    "Выведите ответ на задачу."
   ]
  },
  {
   "cell_type": "code",
   "execution_count": 74,
   "metadata": {},
   "outputs": [],
   "source": [
    "begin, final = int(input()), int(input())\n",
    "for i in range(begin, final+1):\n",
    "    string_i = str(i)\n",
    "    if string_i == string_i[::-1]:\n",
    "        print(i)"
   ]
  },
  {
   "cell_type": "markdown",
   "metadata": {},
   "source": [
    "F. Сумма факториалов\n",
    "\n",
    "По данному натуральном n вычислите сумму . В решении этой задачи можно использовать только один цикл.\n",
    "\n",
    "Формат ввода\n",
    "Вводится натуральное число n.\n",
    "\n",
    "Формат вывода\n",
    "Выведите ответ на задачу."
   ]
  },
  {
   "cell_type": "code",
   "execution_count": 4,
   "metadata": {},
   "outputs": [
    {
     "name": "stdout",
     "output_type": "stream",
     "text": [
      "9\n"
     ]
    }
   ],
   "source": [
    "x = int(input())\n",
    "summ_fact = 1\n",
    "result = 0\n",
    "for i in range(1, x+1):\n",
    "    summ_fact *= i\n",
    "    result += summ_fact\n",
    "print(result)\n"
   ]
  },
  {
   "cell_type": "markdown",
   "metadata": {},
   "source": [
    "G. Потерянная карточка\n",
    "\n",
    "Для настольной игры используются карточки с номерами от 1 до N. Одна карточка потерялась. Найдите ее, зная номера оставшихся карточек.\n",
    "\n",
    "Формат ввода\n",
    "Дано число N, далее N-1 номер оставшихся карточек (различные числа от 1 до N).\n",
    "\n",
    "Формат вывода\n",
    "Программа должна вывести номер потерянной карточки."
   ]
  },
  {
   "cell_type": "code",
   "execution_count": 86,
   "metadata": {},
   "outputs": [
    {
     "name": "stdout",
     "output_type": "stream",
     "text": [
      "2\n"
     ]
    }
   ],
   "source": [
    "x = int(input())\n",
    "sum_x = 0\n",
    "for i in range(1, x+1):\n",
    "    sum_x += i\n",
    "while x != 1:\n",
    "    y = int(input())\n",
    "    sum_x -= y\n",
    "    x -= 1\n",
    "print(sum_x)"
   ]
  },
  {
   "cell_type": "markdown",
   "metadata": {},
   "source": [
    "H. Соседи одного знака\n",
    "\n",
    "Дан список чисел. Если в нем есть два соседних элемента одного знака, выведите эти числа. Если соседних элементов одного знака нет - не выводите ничего. Если таких пар соседей несколько - выведите первую пару.\n",
    "\n",
    "Формат ввода\n",
    "Вводится список чисел. Все числа списка находятся на одной строке.\n",
    "\n",
    "Формат вывода\n",
    "Выведите ответ на задачу."
   ]
  },
  {
   "cell_type": "code",
   "execution_count": 96,
   "metadata": {},
   "outputs": [],
   "source": [
    "x = input().split()\n",
    "for i in range(len(x)-1):\n",
    "    if (int(x[i]) > 0 and int(x[i+1]) > 0) or (int(x[i]) < 0 and int(x[i+1]) < 0):\n",
    "        print(x[i], x[i+1])\n",
    "        break"
   ]
  },
  {
   "cell_type": "markdown",
   "metadata": {},
   "source": [
    "I. Наименьший положительный\n",
    "\n",
    "Выведите значение наименьшего из всех положительных элементов в списке. Известно, что в списке есть хотя бы один положительный элемент, а значения всех элементов списка по модулю не превосходят 1000.\n",
    "\n",
    "Формат ввода\n",
    "Вводится список чисел. Все числа списка находятся на одной строке.\n",
    "\n",
    "Формат вывода\n",
    "Выведите ответ на задачу."
   ]
  },
  {
   "cell_type": "code",
   "execution_count": 101,
   "metadata": {},
   "outputs": [
    {
     "name": "stdout",
     "output_type": "stream",
     "text": [
      "1\n"
     ]
    }
   ],
   "source": [
    "x = input().split()\n",
    "result = 1000\n",
    "for i in x:\n",
    "    if int(i) > 0:\n",
    "        if int(i) < result:\n",
    "            result = int(i)\n",
    "print(result)"
   ]
  },
  {
   "cell_type": "markdown",
   "metadata": {},
   "source": [
    "J. Кегельбан\n",
    "\n",
    "N кеглей выставили в один ряд, занумеровав их слева направо числами от 1 до N. Затем по этому ряду бросили K шаров, при этом i-й шар сбил все кегли с номерами от li до ri включительно. Определите, какие кегли остались стоять на месте.\n",
    "\n",
    "Формат ввода\n",
    "Программа получает на вход количество кеглей N и количество бросков K. Далее идет K пар чисел li, ri, при этом 1≤ li≤ ri≤ N ≤ 100.\n",
    "\n",
    "Формат вывода\n",
    "Программа должна вывести последовательность из N символов, где j-й символ есть “I”, если j-я кегля осталась стоять, или “.”, если j-я кегля была сбита."
   ]
  },
  {
   "cell_type": "code",
   "execution_count": 144,
   "metadata": {},
   "outputs": [
    {
     "name": "stdout",
     "output_type": "stream",
     "text": [
      "..I.I\n"
     ]
    }
   ],
   "source": [
    "x = input().split()\n",
    "c_keggl, ball = int(x[0]), int(x[1])\n",
    "keggl_list = ['I'] * len(range(0, c_keggl))\n",
    "while ball != 0:\n",
    "    y = input().split()\n",
    "    for i in range(int(y[0]), int(y[1])+1):\n",
    "        keggl_list[i-1] = '.'\n",
    "    ball -= 1\n",
    "print(''.join(keggl_list))"
   ]
  }
 ],
 "metadata": {
  "kernelspec": {
   "display_name": "Python 3.10.6 64-bit",
   "language": "python",
   "name": "python3"
  },
  "language_info": {
   "codemirror_mode": {
    "name": "ipython",
    "version": 3
   },
   "file_extension": ".py",
   "mimetype": "text/x-python",
   "name": "python",
   "nbconvert_exporter": "python",
   "pygments_lexer": "ipython3",
   "version": "3.10.6"
  },
  "orig_nbformat": 4,
  "vscode": {
   "interpreter": {
    "hash": "916dbcbb3f70747c44a77c7bcd40155683ae19c65e1c03b4aa3499c5328201f1"
   }
  }
 },
 "nbformat": 4,
 "nbformat_minor": 2
}
