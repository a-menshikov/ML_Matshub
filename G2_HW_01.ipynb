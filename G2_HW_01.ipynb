{
 "cells": [
  {
   "cell_type": "markdown",
   "metadata": {},
   "source": [
    "Для всех задач:\n",
    "\n",
    "Ограничение времени\t1 секунда\n",
    "Ограничение памяти\t64Mb\n",
    "Ввод\tстандартный ввод или input.txt\n",
    "Вывод\tстандартный вывод или output.txt"
   ]
  },
  {
   "cell_type": "markdown",
   "metadata": {},
   "source": [
    "A. Стоимость покупки\n",
    "\n",
    "Пирожок в столовой стоит A рублей и B копеек. Определите, сколько рублей и копеек нужно заплатить за N пирожков.\n",
    "\n",
    "Формат ввода\n",
    "Программа получает на вход три числа: A, B, N — целые, неотрицательные, не превышают 10000.\n",
    "\n",
    "Формат вывода\n",
    "Программа должна вывести два числа: стоимость покупки в рублях и копейках."
   ]
  },
  {
   "cell_type": "code",
   "execution_count": null,
   "metadata": {},
   "outputs": [],
   "source": [
    "A, B, N = int(input()), int(input()), int(input())\n",
    "rub = A * N + ((B * N)//100)\n",
    "cop = (B * N) % 100\n",
    "print(rub, cop)"
   ]
  },
  {
   "cell_type": "markdown",
   "metadata": {},
   "source": [
    "B. Электронные часы-1\n",
    "\n",
    "Дано число N. С начала суток прошло N минут. Определите, сколько часов и минут будут показывать электронные часы в этот момент.\n",
    "\n",
    "Формат ввода\n",
    "Вводится число N — целое, положительное, не превышает 107.\n",
    "\n",
    "Формат вывода\n",
    "Программа должна вывести два числа: количество часов (от 0 до 23) и количество минут (от 0 до 59).\n",
    "\n",
    "Учтите, что число N может быть больше, чем количество минут в сутках."
   ]
  },
  {
   "cell_type": "code",
   "execution_count": null,
   "metadata": {},
   "outputs": [],
   "source": [
    "INPUT_VALUE = int(input())\n",
    "hour = (INPUT_VALUE//60)%24\n",
    "minutes = INPUT_VALUE%60\n",
    "print(hour, minutes)"
   ]
  },
  {
   "cell_type": "markdown",
   "metadata": {},
   "source": [
    "C. Ход короля\n",
    "\n",
    "Шахматный король ходит по горизонтали, вертикали и диагонали, но только на 1 клетку. Даны две различные клетки шахматной доски, определите, может ли король попасть с первой клетки на вторую одним ходом.\n",
    "\n",
    "Формат ввода\n",
    "Программа получает на вход четыре числа от 1 до 8 каждое, задающие номер столбца и номер строки сначала для первой клетки, потом для второй клетки.\n",
    "\n",
    "Формат вывода\n",
    "Программа должна вывести YES, если из первой клетки ходом короля можно попасть во вторую или NO в противном случае."
   ]
  },
  {
   "cell_type": "code",
   "execution_count": null,
   "metadata": {},
   "outputs": [],
   "source": [
    "A, B, C, D = int(input()), int(input()), int(input()), int(input())\n",
    "if C in [A-1, A, A+1] and D in [B-1, B, B+1]:\n",
    "    print('YES')\n",
    "else:\n",
    "    print('NO')"
   ]
  },
  {
   "cell_type": "markdown",
   "metadata": {},
   "source": [
    "D. Узник замка Иф\n",
    "\n",
    "За многие годы заточения узник замка Иф проделал в стене прямоугольное отверстие размером D × E. Замок Иф сложен из кирпичей, размером A × B × C. Определите, сможет ли узник выбрасывать кирпичи в море через это отверстие, если стороны кирпича должны быть параллельны сторонам отверстия.\n",
    "\n",
    "Формат ввода\n",
    "Программа получает на вход числа A, B, C, D, E.\n",
    "\n",
    "Формат вывода\n",
    "Программа должна вывести слово YES или NO."
   ]
  },
  {
   "cell_type": "code",
   "execution_count": null,
   "metadata": {},
   "outputs": [],
   "source": [
    "A, B, C, D, E = int(input()), int(input()), int(input()), int(input()), int(input())\n",
    "if min(A,B,C) <= min(D,E) and max(min(A,B), min(B,C)) <= max(D,E):\n",
    "    print('YES')\n",
    "else:\n",
    "    print('NO')"
   ]
  },
  {
   "cell_type": "markdown",
   "metadata": {},
   "source": [
    "E. Максимальная длина монотонного фрагмента\n",
    "\n",
    "Дана последовательность натуральных чисел, завершающаяся число 0. Определите наибольшую длину монотонного фрагмента последовательности (то есть такого фрагмента, где все элементы либо больше предыдущего, либо меньше).\n",
    "\n",
    "Формат ввода\n",
    "Вводится последовательность целых чисел, оканчивающаяся числом 0 (само число 0 в последовательность не входит, а служит как признак ее окончания).\n",
    "\n",
    "Формат вывода\n",
    "Выведите ответ на задачу."
   ]
  },
  {
   "cell_type": "code",
   "execution_count": null,
   "metadata": {},
   "outputs": [],
   "source": [
    "x = int(input())\n",
    "mono_up = 1\n",
    "mono_down = 1\n",
    "max_count = 1\n",
    "while True:\n",
    "    y = int(input())\n",
    "    if y == 0:\n",
    "        break\n",
    "    if y > x:\n",
    "        mono_up += 1\n",
    "        mono_down = 1\n",
    "        if mono_up > max_count:\n",
    "            max_count = mono_up\n",
    "        x = y\n",
    "    elif y < x:\n",
    "        mono_down += 1\n",
    "        mono_up = 1\n",
    "        if mono_down > max_count:\n",
    "            max_count = mono_down\n",
    "        x = y    \n",
    "    else:\n",
    "        mono_up = 1\n",
    "        mono_down = 1\n",
    "        x = y\n",
    "print(max_count)"
   ]
  },
  {
   "cell_type": "markdown",
   "metadata": {},
   "source": [
    "F. Площадь треугольника\n",
    "\n",
    "Даны длины сторон треугольника. Вычислите площадь треугольника.\n",
    "\n",
    "Формат ввода\n",
    "Вводятся три положительных числа.\n",
    "\n",
    "Формат вывода\n",
    "Выведите ответ на задачу."
   ]
  },
  {
   "cell_type": "code",
   "execution_count": null,
   "metadata": {},
   "outputs": [],
   "source": [
    "A, B, C = int(input()), int(input()), int(input())\n",
    "hp = (A+B+C)/2\n",
    "S = (hp*(hp-A)*(hp-B)*(hp-C))**0.5\n",
    "print(S)"
   ]
  }
 ],
 "metadata": {
  "kernelspec": {
   "display_name": "Python 3.10.6 64-bit",
   "language": "python",
   "name": "python3"
  },
  "language_info": {
   "codemirror_mode": {
    "name": "ipython",
    "version": 3
   },
   "file_extension": ".py",
   "mimetype": "text/x-python",
   "name": "python",
   "nbconvert_exporter": "python",
   "pygments_lexer": "ipython3",
   "version": "3.10.6"
  },
  "orig_nbformat": 4,
  "vscode": {
   "interpreter": {
    "hash": "916dbcbb3f70747c44a77c7bcd40155683ae19c65e1c03b4aa3499c5328201f1"
   }
  }
 },
 "nbformat": 4,
 "nbformat_minor": 2
}
