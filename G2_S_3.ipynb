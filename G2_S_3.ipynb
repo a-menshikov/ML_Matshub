{
 "cells": [
  {
   "cell_type": "code",
   "execution_count": 2,
   "metadata": {},
   "outputs": [
    {
     "name": "stdout",
     "output_type": "stream",
     "text": [
      "1.0\n"
     ]
    }
   ],
   "source": [
    "x1, y1, x2, y2 = float(input()), float(input()), float(input()), float(input())\n",
    "def distance(x1, y1, x2, y2):\n",
    "    return ((x2-x1)**2 + (y2-y1)**2) **0.5\n",
    "\n",
    "print(distance(x1, y1, x2, y2))"
   ]
  },
  {
   "cell_type": "code",
   "execution_count": 27,
   "metadata": {},
   "outputs": [
    {
     "name": "stdout",
     "output_type": "stream",
     "text": [
      "NO\n"
     ]
    }
   ],
   "source": [
    "x, y= float(input()), float(input())\n",
    "def IsPointInSquare(x, y):\n",
    "    sum_coord = abs(x) + abs(y)\n",
    "    return sum_coord <= 1\n",
    "\n",
    "result = ('NO','YES')\n",
    "print(result[int(IsPointInSquare(x, y))])\n"
   ]
  },
  {
   "cell_type": "code",
   "execution_count": 59,
   "metadata": {},
   "outputs": [
    {
     "name": "stdout",
     "output_type": "stream",
     "text": [
      "YES\n"
     ]
    }
   ],
   "source": [
    "x = int(input())\n",
    "def IsPrime(x):\n",
    "    if x%2 == 0 and x != 2:\n",
    "        return 'NO'\n",
    "    for i in range(2, int(x**0.5)+1):\n",
    "        if x%i == 0:\n",
    "            return 'NO'\n",
    "    return 'YES'\n",
    "print(IsPrime(x))"
   ]
  },
  {
   "cell_type": "code",
   "execution_count": 29,
   "metadata": {},
   "outputs": [
    {
     "name": "stdout",
     "output_type": "stream",
     "text": [
      "27.0\n"
     ]
    }
   ],
   "source": [
    "a, n= float(input()), int(input())\n",
    "if n%2 == 0:\n",
    "    result=(a**2)**(n/2)\n",
    "else:\n",
    "    result= a * a**(n-1)\n",
    "\n",
    "print(result)"
   ]
  },
  {
   "cell_type": "code",
   "execution_count": 36,
   "metadata": {},
   "outputs": [
    {
     "name": "stdout",
     "output_type": "stream",
     "text": [
      "3 4 "
     ]
    }
   ],
   "source": [
    "x, y= int(input()), int(input())\n",
    "\n",
    "def ReduceFraction(x, y):\n",
    "    def gcd_fun(x, y): \n",
    "        if(y == 0):\n",
    "            return x\n",
    "        else: \n",
    "            return gcd_fun(y, x % y)\n",
    "    result = gcd_fun(x, y)\n",
    "    return (x//result, y//result)\n",
    "\n",
    "for i in ReduceFraction(x, y):\n",
    "    print(i, end=' ')"
   ]
  },
  {
   "cell_type": "code",
   "execution_count": 65,
   "metadata": {},
   "outputs": [
    {
     "name": "stdout",
     "output_type": "stream",
     "text": [
      "3 4 5 3 4 2\n"
     ]
    }
   ],
   "source": [
    "x = input().split()\n",
    "x.insert(0, x.pop())\n",
    "print(' '.join(x))"
   ]
  },
  {
   "cell_type": "code",
   "execution_count": 69,
   "metadata": {},
   "outputs": [
    {
     "name": "stdout",
     "output_type": "stream",
     "text": [
      "1\n"
     ]
    }
   ],
   "source": [
    "x = input().split()\n",
    "counter = 0\n",
    "result = 0\n",
    "for i in x:\n",
    "    if x.count(i) > counter:\n",
    "        counter = x.count(i)\n",
    "        result = i\n",
    "print(result)"
   ]
  },
  {
   "cell_type": "code",
   "execution_count": 81,
   "metadata": {},
   "outputs": [
    {
     "name": "stdout",
     "output_type": "stream",
     "text": [
      "-5 -100001 -100001 100001 -5\n",
      "-5 -7 -100001 -5 -7\n",
      "-5 -7 -9 -7 -9\n",
      "-5 -9 -7\n"
     ]
    }
   ],
   "source": [
    "x = [int(i) for i in input().split()]\n",
    "m1 = m2 = m3 = -10**5 - 1\n",
    "n1 = n2 = 10**5 + 1\n",
    "for i in x:\n",
    "    if i > m1:\n",
    "        m1, m2, m3 = i, m1, m2\n",
    "    elif i > m2:\n",
    "        m2, m3 = i, m2\n",
    "    elif i > m3:\n",
    "        m3 = i\n",
    "    if i < n1:\n",
    "        n1, n2 = i, n1\n",
    "    elif i < n2:\n",
    "        n2 = i\n",
    "        \n",
    "if m1*m2*m3 > m1*n1*n2:\n",
    "    print(' '.join([str(i) for i in (m1,m2,m3)]))\n",
    "else:\n",
    "    print(' '.join([str(i) for i in (m1,n1,n2)]))"
   ]
  },
  {
   "cell_type": "code",
   "execution_count": 97,
   "metadata": {},
   "outputs": [
    {
     "name": "stdout",
     "output_type": "stream",
     "text": [
      "Party one\n"
     ]
    }
   ],
   "source": [
    "file1 = open(\"input.txt\", \"r\", encoding='utf-8')\n",
    "parties = False\n",
    "votes = False\n",
    "electors = 0\n",
    "election = {}\n",
    "\n",
    "while True:\n",
    "    line = file1.readline()\n",
    "    if not line:\n",
    "        break\n",
    "    if 'PARTIES' in line:\n",
    "        parties = True\n",
    "        continue\n",
    "    if 'VOTES' in line:\n",
    "        parties = False\n",
    "        votes = True\n",
    "        continue\n",
    "    if parties is True:\n",
    "        election[line.strip()] = 0\n",
    "    if votes is True:\n",
    "        election[line.strip()] += 1\n",
    "        electors += 1\n",
    "\n",
    "for i in election:\n",
    "    election[i] /= electors\n",
    "\n",
    "print('\\n'.join([i for i in election if election[i]>=0.07]))"
   ]
  },
  {
   "cell_type": "code",
   "execution_count": null,
   "metadata": {},
   "outputs": [],
   "source": []
  },
  {
   "cell_type": "code",
   "execution_count": null,
   "metadata": {},
   "outputs": [],
   "source": []
  }
 ],
 "metadata": {
  "kernelspec": {
   "display_name": "Python 3.10.6 64-bit",
   "language": "python",
   "name": "python3"
  },
  "language_info": {
   "codemirror_mode": {
    "name": "ipython",
    "version": 3
   },
   "file_extension": ".py",
   "mimetype": "text/x-python",
   "name": "python",
   "nbconvert_exporter": "python",
   "pygments_lexer": "ipython3",
   "version": "3.10.6"
  },
  "orig_nbformat": 4,
  "vscode": {
   "interpreter": {
    "hash": "31f2aee4e71d21fbe5cf8b01ff0e069b9275f58929596ceb00d14d90e3e16cd6"
   }
  }
 },
 "nbformat": 4,
 "nbformat_minor": 2
}
