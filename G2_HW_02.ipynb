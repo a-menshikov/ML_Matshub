{
 "cells": [
  {
   "cell_type": "markdown",
   "metadata": {},
   "source": [
    "Для всех задач:\n",
    "\n",
    "Ограничение времени\t1 секунда\n",
    "Ограничение памяти\t64Mb\n",
    "Ввод\tстандартный ввод или input.txt\n",
    "Вывод\tстандартный вывод или output.txt"
   ]
  },
  {
   "cell_type": "markdown",
   "metadata": {},
   "source": [
    "A. Ферзи\n",
    "\n",
    "Известно, что на доске 8×8 можно расставить 8 ферзей так, чтобы они не били друг друга. Вам дана расстановка 8 ферзей на доске, определите, есть ли среди них пара бьющих друг друга.\n",
    "\n",
    "Формат ввода\n",
    "Программа получает на вход восемь пар чисел, каждое число от 1 до 8 - координаты 8 ферзей.\n",
    "\n",
    "Формат вывода\n",
    "Если ферзи не бьют друг друга, выведите слово NO, иначе выведите YES."
   ]
  },
  {
   "cell_type": "code",
   "execution_count": null,
   "metadata": {},
   "outputs": [],
   "source": [
    "n = 8\n",
    "lines = []\n",
    "columns = []\n",
    "for i in range(n):\n",
    "    x, y = [int(s) for s in input().split()]\n",
    "    columns.append(y)\n",
    "    lines.append(x)\n",
    "\n",
    "result = True\n",
    "for i in range(n):\n",
    "    for j in range(i + 1, n):\n",
    "        if lines[i] == lines[j] or columns[i] == columns[j] or abs(lines[i] - lines[j]) == abs(columns[i] - columns[j]):\n",
    "            result = False\n",
    "\n",
    "if result:\n",
    "    print('NO')\n",
    "else:\n",
    "    print('YES')"
   ]
  },
  {
   "cell_type": "markdown",
   "metadata": {},
   "source": [
    "B. Сжатие списка\n",
    "\n",
    "Дан список целых чисел. Требуется “сжать” его, переместив все ненулевые элементы в левую часть списка, не меняя их порядок, а все нули - в правую часть. Порядок ненулевых элементов изменять нельзя, дополнительный список использовать нельзя, задачу нужно выполнить за один проход по списку. Распечатайте полученный список.\n",
    "\n",
    "Формат ввода\n",
    "Вводится список чисел. Все числа списка находятся на одной строке.\n",
    "\n",
    "Формат вывода\n",
    "Выведите ответ на задачу."
   ]
  },
  {
   "cell_type": "code",
   "execution_count": 1,
   "metadata": {},
   "outputs": [
    {
     "name": "stdout",
     "output_type": "stream",
     "text": [
      "-1 2 3 5 -2 2 2 2 1 0 0 0 "
     ]
    }
   ],
   "source": [
    "x = [int(i) for i in input().split()]\n",
    "x.sort(key = lambda x: not x)\n",
    "for i in x:\n",
    "    print(i, end=' ')"
   ]
  },
  {
   "cell_type": "markdown",
   "metadata": {},
   "source": [
    "C. Сортировка подсчетом\n",
    "\n",
    "Дан список из N (N ≤ 2 * 105) элементов,которые принимают целые значения от 0 до 100.\n",
    "\n",
    "Отсортируйте этот список в порядке неубывания элементов. Выведите полученный список.\n",
    "\n",
    "Решение оформите в виде функции CountSort(A), которая модифицирует передаваемый ей список.Использовать встроенные функции сортировки нельзя."
   ]
  },
  {
   "cell_type": "code",
   "execution_count": 14,
   "metadata": {},
   "outputs": [
    {
     "name": "stdout",
     "output_type": "stream",
     "text": [
      "[0, 4, 3, 2, 1, 0]\n",
      "[0, 1, 3, 2, 1, 0]\n",
      "[0, 1, 2, 2, 1, 0]\n",
      "[0, 1, 2, 3, 1, 0]\n",
      "[0, 1, 2, 3, 4, 0]\n",
      "[0, 1, 2, 3, 4, 5]\n"
     ]
    },
    {
     "data": {
      "text/plain": [
       "[0, 1, 2, 3, 4, 5]"
      ]
     },
     "execution_count": 14,
     "metadata": {},
     "output_type": "execute_result"
    }
   ],
   "source": [
    "a = [int(i) for i in input().split()]\n",
    "\n",
    "def CountSort(a):\n",
    "    acc=[]\n",
    "    for i in range(101):\n",
    "        acc+=[0]\n",
    "    for i in a:\n",
    "        acc[i]+=1\n",
    "    j=0\n",
    "    for i in range(101):\n",
    "        if acc[i]>0:\n",
    "            for k in range(acc[i]):\n",
    "                a[j]=i\n",
    "                j+=1\n",
    "    return a\n",
    "\n",
    "CountSort(a)"
   ]
  },
  {
   "cell_type": "markdown",
   "metadata": {},
   "source": [
    "D. Ближайшее число\n",
    "\n",
    "Напишите программу, которая находит в массиве элемент, самый близкий по величине к  данному числу.\n",
    "\n",
    "Формат ввода\n",
    "В первой строке задается одно натуральное число N, не превосходящее 1000 – размер массива. Во второй строке содержатся N чисел – элементы массива (целые числа, не превосходящие по модулю 1000). В третьей строке вводится одно целое число x, не превосходящее по модулю 1000.\n",
    "\n",
    "Формат вывода\n",
    "Вывести значение элемента массива, ближайшее к x. Если таких чисел несколько, выведите любое из них."
   ]
  },
  {
   "cell_type": "code",
   "execution_count": null,
   "metadata": {},
   "outputs": [],
   "source": [
    "size = int(input())\n",
    "input_list = sorted(int(i) for i in input().split())\n",
    "to_find = int(input())\n",
    "closer = 1001\n",
    "diff_closer = 2001\n",
    "def binary_search_recursive(arr, low_ind, high_ind, val):\n",
    "    global diff_closer\n",
    "    global closer\n",
    "    if high_ind >= low_ind:\n",
    "        mid_ind = (high_ind + low_ind) // 2 \n",
    "        \n",
    "        if val == arr[mid_ind]:\n",
    "            return arr[mid_ind]\n",
    "        \n",
    "        elif arr[mid_ind] > val:\n",
    "            if abs(val - arr[mid_ind]) < diff_closer:\n",
    "                diff_closer = abs(val - arr[mid_ind])\n",
    "                closer = arr[mid_ind]\n",
    "            return binary_search_recursive(arr, low_ind, mid_ind - 1, val)\n",
    "        \n",
    "        else:\n",
    "            if abs(val - arr[mid_ind]) < diff_closer:\n",
    "                diff_closer = abs(val - arr[mid_ind])\n",
    "                closer = arr[mid_ind]\n",
    "            return binary_search_recursive(arr, mid_ind + 1, high_ind, val)\n",
    "        \n",
    "    else:\n",
    "        return closer\n",
    "    \n",
    "print(binary_search_recursive(input_list, 0, len(input_list)-1, to_find))"
   ]
  },
  {
   "cell_type": "markdown",
   "metadata": {},
   "source": [
    "E. Количество различных элементов\n",
    "\n",
    "Дан список, упорядоченный по неубыванию элементов в нем. Определите, сколько в нем различных элементов.\n",
    "\n",
    "Формат ввода\n",
    "Вводится список чисел. Все числа списка находятся на одной строке.\n",
    "\n",
    "Формат вывода\n",
    "Выведите ответ на задачу."
   ]
  },
  {
   "cell_type": "code",
   "execution_count": null,
   "metadata": {},
   "outputs": [],
   "source": [
    "x = [int(i) for i in input().split()]\n",
    "hash_dict = {}\n",
    "for i in x:\n",
    "    hash_dict[i] = hash_dict.get(i,0) + 1\n",
    "print(len(hash_dict.keys()))"
   ]
  },
  {
   "cell_type": "markdown",
   "metadata": {},
   "source": [
    "F. Школы с наибольшим числом участников олимпиады\n",
    "\n",
    "В олимпиаде по информатике принимало участие N человек. Определите школы, из которых в олимпиаде принимало участие больше всего участников. В этой задаче необходимо считывать данные построчно, не сохраняя в памяти данные обо всех участниках, а только подсчитывая число участников для каждой школы.\n",
    "\n",
    "Формат ввода\n",
    "Информация о результатах олимпиады записана в файле, каждая из строк которого имеет вид: фамилия имя школа балл\n",
    "\n",
    "Фамилия и имя — текстовые строки, не содержащие пробелов. Школа — целое число от 1 до 99. Балл — целое число от 0 до 100.\n",
    "\n",
    "Формат вывода\n",
    "Выведите номера этих школ в порядке возрастания."
   ]
  },
  {
   "cell_type": "code",
   "execution_count": null,
   "metadata": {},
   "outputs": [],
   "source": [
    "import sys\n",
    "\n",
    "hash_dict = {}\n",
    "for line in sys.stdin.readlines():\n",
    "    if line.strip() == \"\":\n",
    "        break\n",
    "    school = line.split()[-2]\n",
    "    hash_dict[school] = hash_dict.get(school,0) + 1\n",
    "print(' '. join(map(str, sorted([int(i) for i in hash_dict if hash_dict[i] == max(hash_dict.values())]))))"
   ]
  },
  {
   "cell_type": "markdown",
   "metadata": {},
   "source": [
    "G. Максимальный балл по классам\n",
    "\n",
    "В олимпиаде по информатике принимало участие несколько человек. Победителем олимпиады становится человек, набравший больше всех баллов. Победители определяются независимо по каждому классу. Определите количество баллов, которое набрал победитель в каждом классе. Гарантируется, что в каждом классе был хотя бы один участник.\n",
    "\n",
    "Формат ввода\n",
    "Информация о результатах олимпиады записана в файле, каждая строка которого имеет вид: фамилия имя класс балл.\n",
    "\n",
    "Фамилия и имя — текстовые строки, не содержащие пробелов. Класс - одно из трех чисел 9, 10, 11. Балл - целое число от 0 до 100.\n",
    "\n",
    "В этой задаче файл необходимо считывать построчно, не сохраняя содержимое файла в памяти целиком.\n",
    "\n",
    "Формат вывода\n",
    "Выведите три числа: баллы победителя олимпиады по 9 классу, по 10 классу, по 11 классу. \n",
    "\n",
    "Входной файл в кодировке utf-8 (В Python используйте open('input.txt', 'r', encoding='utf-8'))."
   ]
  },
  {
   "cell_type": "code",
   "execution_count": null,
   "metadata": {},
   "outputs": [],
   "source": [
    "a = open('input.txt', 'r', encoding='utf-8', newline='\\r\\n')\n",
    "hash_dict = {\n",
    "    '9': 0,\n",
    "    '10': 0,\n",
    "    '11': 0,\n",
    "}\n",
    "for line in a:\n",
    "    if hash_dict[line.split()[-2]] < int(line.split()[-1]):\n",
    "        hash_dict[line.split()[-2]] = int(line.split()[-1])\n",
    "print(' '.join([str(i) for i in list(hash_dict.values())]))"
   ]
  },
  {
   "cell_type": "markdown",
   "metadata": {},
   "source": [
    "H. Проходной балл\n",
    "\n",
    "Для поступления в вуз абитуриент должен предъявить результаты трех экзаменов в виде ЕГЭ, каждый из них оценивается целым числом от 0 до 100 баллов. При этом абитуриенты, набравшие менее 40 баллов (неудовлетворительную оценку) по любому экзамену из конкурса выбывают. Остальные абитуриенты участвуют в конкурсе по сумме баллов за три экзамена.\n",
    "\n",
    "В конкурсе участвует N человек, при этом количество мест равно K. Определите проходной балл, то есть такое количество баллов, что количество участников, набравших столько или больше баллов не превосходит K, а при добавлении к ним абитуриентов, набравших наибольшее количество баллов среди непринятых абитуриентов, общее число принятых абитуриентов станет больше K.\n",
    "\n",
    "Формат ввода\n",
    "Программа получает на вход количество мест K. Далее идут строки с информацией об абитуриентах, каждая из которых состоит из имени (текстовая строка содержащая произвольное число пробелов) и трех чисел от 0 до 100, разделенных пробелами.\n",
    "\n",
    "Формат вывода\n",
    "Программа должна вывести проходной балл в конкурсе. Выведенное значение должно быть минимальным баллом, который набрал абитуриент, прошедший по конкурсу.\n",
    "\n",
    "Также возможны две ситуации, когда проходной балл не определен.\n",
    "\n",
    "Если будут зачислены все абитуриенты, не имеющие неудовлетворительных оценок, программа должна вывести число 0.\n",
    "\n",
    "Если количество абитуриентов, имеющих равный максимальный балл больше чем K, программа должна вывести число 1."
   ]
  },
  {
   "cell_type": "code",
   "execution_count": null,
   "metadata": {},
   "outputs": [],
   "source": [
    "a = open('input.txt', 'r', encoding='utf-8')\n",
    "places = int(a.read().splitlines()[0])\n",
    "a = open('input.txt', 'r', encoding='utf-8')\n",
    "marks = {}\n",
    "for line in a.read().splitlines()[1:]:\n",
    "    line_list = line.split()\n",
    "    if int(line_list[-1]) < 40 or int(line_list[-2]) < 40 or int(line_list[-3]) < 40:\n",
    "        continue\n",
    "    else:\n",
    "        mark = int(line_list[-1]) + int(line_list[-2]) + int(line_list[-3])\n",
    "        marks[mark] = marks.get(mark, 0) + 1 \n",
    "marks_tuple = sorted(marks.items(), key=lambda x: x[0], reverse=True)\n",
    "hold_places = 0\n",
    "main_mark = 0\n",
    "if marks_tuple[0][1] > places:\n",
    "    main_mark =1\n",
    "elif sum(marks.values()) <= places:\n",
    "    pass\n",
    "else:\n",
    "    for i in marks_tuple:\n",
    "        if (hold_places + i[1]) <= places:\n",
    "            hold_places += i[1]\n",
    "            main_mark = i[0]\n",
    "        else:\n",
    "            break        \n",
    "print(main_mark)"
   ]
  },
  {
   "cell_type": "markdown",
   "metadata": {},
   "source": [
    "I. Образовательная реформа\n",
    "\n",
    "Администрация области N решила оптимизировать количество школ. Известно, что все n селений находятся вдоль одной прямой дороги. Вдоль дороги также расположены m школ, в которые дети поселков ходят.\n",
    "\n",
    "Для того, чтобы выяснить текущую загруженность школ, необходимо для каждого селения определить ближайшую к нему школу.\n",
    "\n",
    "Формат ввода\n",
    "В первой строке вводится число n - количество селений (1 <= n <= 100000). Вторая строка содержит n различных целых чисел, i-е из этих чисел задает расстояние от начала дороги до i-го селения. В третьей строке входных данных задается число m - количество школ (1 <= m <= 100000). Четвертая строка содержит m различных целых чисел, i-е из этих чисел задает расстояние от начала дороги до i-ой школы. Все расстояния положительны и не превышают 109. Селение и школа могут располагаться в одной точке.\n",
    "\n",
    "Формат вывода\n",
    "Выведите n чисел - для каждого селения выведите номер ближайшей к нему школы. Школы пронумерованы от 1 до m в том порядке, в котором они заданы во входных данных."
   ]
  },
  {
   "cell_type": "code",
   "execution_count": null,
   "metadata": {},
   "outputs": [],
   "source": [
    "villages = int(input())\n",
    "villages_coord = map(int, input().split())\n",
    "schools = int(input())\n",
    "schools_coord = [[i+1, int(j)] for i,j in enumerate(input().split())]\n",
    "    \n",
    "schools_coord.sort(key = lambda x: x[1])\n",
    "\n",
    "def binary_search(arr: list, val: int) -> int:\n",
    "    low_ind = 0\n",
    "    high_ind = len(arr) - 1\n",
    "    while(high_ind - low_ind > 1):\n",
    "        mid_index = (high_ind + low_ind) // 2\n",
    "        if(arr[mid_index][1] < val):\n",
    "            low_ind = mid_index\n",
    "        else:\n",
    "            high_ind = mid_index\n",
    "    if(val - arr[low_ind][1] < arr[high_ind][1] - val):\n",
    "        return arr[low_ind][0]\n",
    "    else:\n",
    "        return arr[high_ind][0]\n",
    "\n",
    "for i in villages_coord:\n",
    "    print(binary_search(schools_coord, i))"
   ]
  },
  {
   "cell_type": "markdown",
   "metadata": {},
   "source": [
    "J. Ханойские башни\n",
    "\n",
    "Головоломка “Ханойские башни” состоит из трех стержней, пронумерованных числами 1, 2, 3. На стержень 1 надета пирамидка из n дисков различного диаметра в порядке возрастания диаметра. Диски можно перекладывать с одного стержня на другой по одному, при этом диск нельзя класть на диск меньшего диаметра. Необходимо переложить всю пирамидку со стержня 1 на стержень 3 за минимальное число перекладываний.\n",
    "\n",
    "Напишите программу, которая решает головоломку; для данного числа дисков n печатает последовательность перекладываний в формате a b c, где a — номер перекладываемого диска,\n",
    "\n",
    "b — номер стержня с которого снимается данный диск, c — номер стержня на который надевается данный диск.\n",
    "\n",
    "Например, строка 1 2 3 означает перемещение диска номер 1 со стержня 2 на стержень 3. В одной строке печатается одна команда. Диски пронумерованы числами от 1 до n в порядке возрастания диаметров.\n",
    "\n",
    "Программа должна вывести минимальный (по количеству произведенных операций) способ перекладывания пирамидки из данного числа дисков.\n",
    "\n",
    "Указание: подумайте, как переложить пирамидку из одного диска? Из двух дисков? Из трех дисков? Из четырех дисков? Пусть мы научились перекладывать пирамидку из n дисков с произвольного стержня на любой другой, как переложить пирамидку из n+1 диска, если можно пользоваться решением для n дисков.\n",
    "\n",
    "Напишите функцию move (n, x, y), которая печатает последовательнось перекладываний дисков для перемещения пирамидки высоты n со стержня номер x\n",
    "\n",
    "на стержень номер y.\n",
    "\n",
    "Формат ввода\n",
    "Вводится натуральное число - количество дисков.\n",
    "\n",
    "Формат вывода\n",
    "Выведите ответ на задачу."
   ]
  },
  {
   "cell_type": "code",
   "execution_count": null,
   "metadata": {},
   "outputs": [],
   "source": [
    "x = int(input())\n",
    "a = list(range(1,x+2))\n",
    "b = [x+1]\n",
    "c = [x+1]\n",
    "if x%2 == 0:\n",
    "    while len(c)<=x:\n",
    "        if a[0]<b[0]:\n",
    "            print(f'{a[0]} 1 2')\n",
    "            b.insert(0,a.pop(0))\n",
    "        else:\n",
    "            print(f'{b[0]} 2 1')\n",
    "            a.insert(0,b.pop(0))\n",
    "        if a[0]<c[0]:\n",
    "            print(f'{a[0]} 1 3')\n",
    "            c.insert(0,a.pop(0))\n",
    "        else:\n",
    "            print(f'{c[0]} 3 1')\n",
    "            a.insert(0,c.pop(0))\n",
    "        if b[0]<c[0]:\n",
    "            print(f'{b[0]} 2 3')\n",
    "            c.insert(0,b.pop(0))\n",
    "        else:\n",
    "            print(f'{c[0]} 3 2')\n",
    "            b.insert(0,c.pop(0))\n",
    "    c.pop()\n",
    "else:\n",
    "    while len(c)<=x:\n",
    "        if a[0]<c[0]:\n",
    "            print(f'{a[0]} 1 3')\n",
    "            c.insert(0,a.pop(0))\n",
    "        else:\n",
    "            print(f'{c[0]} 3 1')\n",
    "            a.insert(0,c.pop(0))\n",
    "        if len(c)<=x:\n",
    "            if a[0]<b[0]:\n",
    "                print(f'{a[0]} 1 2')\n",
    "                b.insert(0,a.pop(0))\n",
    "            else:\n",
    "                print(f'{b[0]} 2 1')\n",
    "                a.insert(0,b.pop(0))\n",
    "        else:\n",
    "            break\n",
    "        if b[0]<c[0]:\n",
    "            print(f'{b[0]} 2 3')\n",
    "            c.insert(0,b.pop(0))\n",
    "        else:\n",
    "            print(f'{c[0]} 3 2')\n",
    "            b.insert(0,c.pop(0))\n",
    "    c.pop()"
   ]
  },
  {
   "cell_type": "markdown",
   "metadata": {},
   "source": [
    "K. Сумма кубов\n",
    "\n",
    "Напишите программу, которая представляет переданное натуральное число в виде суммы не более чем 7 кубов других натуральных чисел.\n",
    "\n",
    "Формат ввода\n",
    "Входная строка содержит целое число N , которое нужно представить в виде суммы кубов.\n",
    "\n",
    "Формат вывода\n",
    "Программа должна вывести любое разложение переданного ей числа в виде суммы не более чем 7 кубов других натуральных чисел. Если такое разложение невозможно, программа должна вывести число 0."
   ]
  },
  {
   "cell_type": "code",
   "execution_count": null,
   "metadata": {},
   "outputs": [],
   "source": [
    "N = int(input())\n",
    "cubes = [i**3 for i in range(int(N**(1/3)), 0, -1)]\n",
    "def finding(N, cubes, start):\n",
    "    n = N\n",
    "    decomposition = []\n",
    "    while sum(decomposition)<n:\n",
    "        for i in cubes[start:]:\n",
    "            while n-i >= 0:\n",
    "                decomposition.append(i)\n",
    "                n -= i\n",
    "    if len(decomposition) <= 7:\n",
    "        return decomposition\n",
    "    else:\n",
    "        return []\n",
    "\n",
    "for i in range(len(cubes)):\n",
    "    x = finding(N, cubes, i)\n",
    "    if len(x)>0:\n",
    "        break    \n",
    "if len(x)>0:\n",
    "    print(' '.join([str(i) for i in x]))\n",
    "else:\n",
    "    print(0)"
   ]
  },
  {
   "cell_type": "markdown",
   "metadata": {},
   "source": [
    "L. Теорема Лагранжа\n",
    "\n",
    "Теорема Лагранжа утверждает, что любое натуральное число можно представить в виде суммы четырех точных квадратов. По данному числу n найдите такое представление: напечатайте от 1 до 4 натуральных чисел, квадраты которых дают в сумме данное число.\n",
    "\n",
    "Формат ввода\n",
    "Программа получает на вход одно натуральное число n < 10000.\n",
    "\n",
    "Формат вывода\n",
    "Программа должна вывести от 1 до 4 натуральных чисел, квадраты которых дают в сумме данное число."
   ]
  },
  {
   "cell_type": "code",
   "execution_count": 2,
   "metadata": {},
   "outputs": [
    {
     "name": "stdout",
     "output_type": "stream",
     "text": [
      "2 2\n"
     ]
    }
   ],
   "source": [
    "import math\n",
    "\n",
    "x = int(input())\n",
    "\n",
    "for i in range(int(math.sqrt(x)), 0, -1):\n",
    "    result = []\n",
    "    y = x\n",
    "    f_sq = i\n",
    "    result.append(f_sq)\n",
    "    y -= f_sq**2\n",
    "    while y > 0:\n",
    "        if len(result) == 4:\n",
    "            break\n",
    "        sq = int(math.sqrt(y))\n",
    "        result.append(sq)\n",
    "        y -= sq**2\n",
    "    if y > 0:\n",
    "        continue\n",
    "    else:\n",
    "        break\n",
    "\n",
    "assert y == 0\n",
    "    \n",
    "print(' '.join([str(i) for i in result]))"
   ]
  },
  {
   "cell_type": "markdown",
   "metadata": {},
   "source": [
    "M. Пересечение множеств\n",
    "\n",
    "Даны два списка чисел, которые могут содержать до 10000 чисел каждый. Выведите все числа, которые входят как в первый, так и во второй список в порядке возрастания. Примечание. И даже эту задачу на Питоне можно решить в одну строчку.\n",
    "\n",
    "Формат ввода\n",
    "Вводятся два списка целых чисел. Все числа каждого списка находятся на отдельной строке.\n",
    "\n",
    "Формат вывода\n",
    "Выведите ответ на задачу."
   ]
  },
  {
   "cell_type": "code",
   "execution_count": 1,
   "metadata": {},
   "outputs": [
    {
     "data": {
      "text/plain": [
       "3"
      ]
     },
     "execution_count": 1,
     "metadata": {},
     "output_type": "execute_result"
    }
   ],
   "source": [
    "file = open(\"input.txt\", \"r\", encoding='utf-8')\n",
    "first = {int(i) for i in file.readline().split()}\n",
    "second = {int(i) for i in file.readline().split()}\n",
    "file.close()\n",
    "unite = ' '.join([str(i) for i in sorted(list(first&second))])\n",
    "output_file = open(\"output.txt\", \"w\")\n",
    "output_file.write(unite)"
   ]
  }
 ],
 "metadata": {
  "kernelspec": {
   "display_name": "Python 3.10.6 64-bit",
   "language": "python",
   "name": "python3"
  },
  "language_info": {
   "codemirror_mode": {
    "name": "ipython",
    "version": 3
   },
   "file_extension": ".py",
   "mimetype": "text/x-python",
   "name": "python",
   "nbconvert_exporter": "python",
   "pygments_lexer": "ipython3",
   "version": "3.10.6"
  },
  "orig_nbformat": 4,
  "vscode": {
   "interpreter": {
    "hash": "916dbcbb3f70747c44a77c7bcd40155683ae19c65e1c03b4aa3499c5328201f1"
   }
  }
 },
 "nbformat": 4,
 "nbformat_minor": 2
}
