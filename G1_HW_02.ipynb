{
 "cells": [
  {
   "cell_type": "markdown",
   "metadata": {},
   "source": [
    "Для всех задач:\n",
    "\n",
    "Ограничение времени\t1 секунда\n",
    "Ограничение памяти\t64Mb\n",
    "Ввод\tстандартный ввод или input.txt\n",
    "Вывод\tстандартный вывод или output.txt"
   ]
  },
  {
   "cell_type": "markdown",
   "metadata": {},
   "source": [
    "A. Упорядочить три числа\n",
    "\n",
    "Дано три числа. Упорядочите их в порядке неубывания. Программа должна считывать три числа a, b, c, затем программа должна менять их значения так, чтобы стали выполнены условия , затем программа выводит тройку a, b, c.\n",
    "\n",
    "Формат ввода\n",
    "Вводятся три числа.\n",
    "\n",
    "Формат вывода\n",
    "Выведите ответ на задачу."
   ]
  },
  {
   "cell_type": "code",
   "execution_count": 38,
   "metadata": {},
   "outputs": [
    {
     "name": "stdout",
     "output_type": "stream",
     "text": [
      "1 2 2\n"
     ]
    }
   ],
   "source": [
    "a, b, c = int(input()), int(input()), int(input())\n",
    "a, b, c = min(a,b,c), max(min(a,b), min(b,c), min(a,c)), max(a,b,c)\n",
    "print(a,b,c)"
   ]
  },
  {
   "cell_type": "markdown",
   "metadata": {},
   "source": [
    "B. Четные и нечетные\n",
    "\n",
    "Даны три целых числа A, B, C. Определить, есть ли среди них хотя бы одно четное и хотя бы одно нечетное.\n",
    "\n",
    "Формат ввода\n",
    "Числа A, B, C, не превышающие по модулю 10000.\n",
    "\n",
    "Формат вывода\n",
    "Одна строка – \"YES\" или \"NO\"."
   ]
  },
  {
   "cell_type": "code",
   "execution_count": 44,
   "metadata": {},
   "outputs": [],
   "source": [
    "a, b, c = int(input()), int(input()), int(input())\n",
    "if (a % 2 == 0 or b % 2 == 0 or c % 2 == 0) and (a % 2 != 0 or b % 2 != 0 or c % 2 != 0):\n",
    "    print('YES')\n",
    "else:\n",
    "    print('NO')"
   ]
  },
  {
   "cell_type": "markdown",
   "metadata": {},
   "source": [
    "C. Квартиры\n",
    "\n",
    "В доме несколько подъездов. В каждом подъезде одинаковое количество квартир. Квартиры нумеруются подряд, начиная с единицы. Может ли в некотором подъезде первая квартира иметь номер x, а последняя – номер y?\n",
    "\n",
    "Формат ввода\n",
    "Вводятся два натуральных числа x и y (), не превышающие 10 000.\n",
    "\n",
    "Формат вывода\n",
    "Выведите слово YES (заглавными латинскими буквами), если такое возможно, и NO в противном случае."
   ]
  },
  {
   "cell_type": "code",
   "execution_count": 46,
   "metadata": {},
   "outputs": [
    {
     "name": "stdout",
     "output_type": "stream",
     "text": [
      "YES\n"
     ]
    }
   ],
   "source": [
    "a, b = int(input()), int(input())\n",
    "in_one = b - a + 1\n",
    "if (a-1) % in_one == 0:\n",
    "    print('YES')\n",
    "else:\n",
    "    print('NO')"
   ]
  },
  {
   "cell_type": "markdown",
   "metadata": {},
   "source": [
    "D. Ряд - 1\n",
    "\n",
    "Даны два целых числа A и B (при этом A≤B). Выведите все числа от A до B включительно.\n",
    "\n",
    "Формат ввода\n",
    "Вводятся два целых числа.\n",
    "\n",
    "Формат вывода\n",
    "Выведите ответ на задачу."
   ]
  },
  {
   "cell_type": "code",
   "execution_count": 49,
   "metadata": {},
   "outputs": [
    {
     "name": "stdout",
     "output_type": "stream",
     "text": [
      "0 "
     ]
    }
   ],
   "source": [
    "a, b = int(input()), int(input())\n",
    "for i in range(a, b+1):\n",
    "\tprint(i, end=' ')"
   ]
  },
  {
   "cell_type": "markdown",
   "metadata": {},
   "source": [
    "E. Ряд - 2\n",
    "\n",
    "Даны два целых числа A и В. Выведите все числа от A до B включительно, в порядке возрастания, если A < B, или в порядке убывания в противном случае.\n",
    "\n",
    "Формат ввода\n",
    "Вводятся два целых числа.\n",
    "\n",
    "Формат вывода\n",
    "Выведите ответ на задачу."
   ]
  },
  {
   "cell_type": "code",
   "execution_count": 57,
   "metadata": {},
   "outputs": [
    {
     "name": "stdout",
     "output_type": "stream",
     "text": [
      "179 "
     ]
    }
   ],
   "source": [
    "a, b = int(input()), int(input())\n",
    "if b<a:\n",
    "    for i in range(a, b-1, -1):\n",
    "        print(i, end=' ')\n",
    "else:\n",
    "    for i in range(a, b+1):\n",
    "        print(i, end=' ')"
   ]
  },
  {
   "cell_type": "markdown",
   "metadata": {},
   "source": [
    "F. Количество нулей\n",
    "\n",
    "Дано несколько чисел. Подсчитайте, сколько из них равны нулю, и выведите это количество.\n",
    "\n",
    "Формат ввода\n",
    "Cначала вводится число N, затем вводится ровно N целых чисел.\n",
    "\n",
    "Формат вывода\n",
    "Выведите ответ на задачу."
   ]
  },
  {
   "cell_type": "code",
   "execution_count": 58,
   "metadata": {},
   "outputs": [
    {
     "name": "stdout",
     "output_type": "stream",
     "text": [
      "2\n"
     ]
    }
   ],
   "source": [
    "count_input = int(input())\n",
    "zero_count = 0\n",
    "while count_input != 0:\n",
    "    x = int(input())\n",
    "    if x == 0:\n",
    "        zero_count += 1\n",
    "    count_input -= 1\n",
    "print(zero_count)"
   ]
  }
 ],
 "metadata": {
  "kernelspec": {
   "display_name": "Python 3.10.6 64-bit",
   "language": "python",
   "name": "python3"
  },
  "language_info": {
   "codemirror_mode": {
    "name": "ipython",
    "version": 3
   },
   "file_extension": ".py",
   "mimetype": "text/x-python",
   "name": "python",
   "nbconvert_exporter": "python",
   "pygments_lexer": "ipython3",
   "version": "3.10.6"
  },
  "orig_nbformat": 4,
  "vscode": {
   "interpreter": {
    "hash": "31f2aee4e71d21fbe5cf8b01ff0e069b9275f58929596ceb00d14d90e3e16cd6"
   }
  }
 },
 "nbformat": 4,
 "nbformat_minor": 2
}
